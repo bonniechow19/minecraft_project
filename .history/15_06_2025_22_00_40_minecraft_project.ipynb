{
 "cells": [
  {
   "cell_type": "markdown",
   "id": "edaa29c0-935d-4700-80f0-8e5f5156f7d2",
   "metadata": {},
   "source": [
    "# Minecraft and Player Data: A Project"
   ]
  },
  {
   "cell_type": "markdown",
   "id": "bfb87b49-dee3-454f-881d-19fa1d983a04",
   "metadata": {},
   "source": [
    "## Introduction"
   ]
  },
  {
   "cell_type": "markdown",
   "id": "ead40186-c3f6-403b-8580-c3edc60cc87c",
   "metadata": {},
   "source": [
    "Minecraft is a well known video game available on a wide range of platforms. You can play it on Windows, Mac, Linux, Xbox, PlayStation, Nintendo Switch, Android, iOS and many more. With such accessibility, it's no wonder this game is so popular. Minecraft is a game made up of blocks, creatures and user community. You can build, dig, create structures, landscapes, gather resources, craft items, connect with friends and more depending on the selected game mode! \n",
    "\n",
    "*Source: https://minecraft.wiki/*\n",
    "\n",
    "Of course, such a game would mean millions of players everyday... so a research group in Computer Science at UBC, led by Frank Wood, collected data about how people play video games. They have set up a MineCraft server, and players' actions are recorded as they navigate through the world. But running this project is not simple: they need to target their recruitment efforts, and make sure they have enough resources (e.g., software licenses, server hardware) to handle the number of players they attract."
   ]
  },
  {
   "cell_type": "markdown",
   "id": "a9603c4c-e691-47e5-b770-013605ef63fc",
   "metadata": {},
   "source": [
    "We would like to know which \"kinds\" of players are most likely to contribute a large amount of data so that we can target those players in our recruiting efforts. \n",
    "More specifically, we want to know: \n",
    "\n",
    "**“Can the `experience` of the player predict `played_hours` in the `players` dataset?”**"
   ]
  },
  {
   "cell_type": "markdown",
   "id": "d23be9b9-ac62-4704-906c-902a1a055948",
   "metadata": {},
   "source": [
    "To answer this question, we will use the <b>players</b> dataset to analyze player data collected by the UBC research group. The dataset is a list of all unique players, including data about each player, containing 196 rows and 7 columns. \n",
    "\n",
    "The columns in the dataset are:\n",
    "- `experience`-The level of experience of the player, ranging from Amateur to Pro\n",
    "- `subscribe`-Whether the player has a paid subscription to Minecraft\n",
    "- `hashedEmail`-The hashed emails of the player\n",
    "- `played_hours`-The amount of hours played by each player (hrs)\n",
    "- `name`-Name of the player\n",
    "- `gender`-Gender of the player\n",
    "- `Age`-Age of the player (yrs)\n",
    "\n",
    "To answer our question of whether the experience of the player can predict the amount of hours played in the players dataset, we will use linear regression. Our predictor will be `experience`and `played_hours`as the continuous variable."
   ]
  },
  {
   "cell_type": "markdown",
   "id": "d501b22a-327d-4761-acf8-73daeaaf1cf3",
   "metadata": {},
   "source": [
    "## Methods & Results"
   ]
  },
  {
   "cell_type": "code",
   "execution_count": null,
   "id": "601f691f-536c-414e-9217-e1c56d3b809c",
   "metadata": {},
   "outputs": [],
   "source": [
    "#we want to first load the appropriate packages\n",
    "library(tidyverse)\n",
    "library(repr)\n",
    "library(tidymodels)\n",
    "options(repr.matrix.max.rows = 6)"
   ]
  },
  {
   "cell_type": "markdown",
   "id": "0a61b405-424b-4116-b224-5af40e909ad0",
   "metadata": {},
   "source": [
    "The appropriate packages were loaded. \n",
    "\n",
    "Our first step to the regression problem is to read the file `players.csv` using the shortest relative path. The data is located in the data folder where we can preview to choose the appropriate `read_*` function. Here we want to use the `read_csv` for comma-separated files because the deliminator is a `,`.  \n",
    "\n",
    "The read file will be assigned to a `players` object for future reference. "
   ]
  },
  {
   "cell_type": "code",
   "execution_count": null,
   "id": "9b9e5d61-ee5e-490a-95ff-defd305a4432",
   "metadata": {},
   "outputs": [],
   "source": [
    "players <-read_csv(\"data/players.csv\")\n",
    "players"
   ]
  },
  {
   "cell_type": "markdown",
   "id": "2911f15e-29e1-45f9-a62a-83e7730ae637",
   "metadata": {},
   "source": [
    "\n",
    "We want to use the `experience` variable but we have to convert the values to numeric values to compute correlations with `played_hours` and plot trends.\n",
    "\n",
    "To do this, we need to mutate the experience column and order the categorical values by numbers. We will assign the new object to `players` and the mutated column `experience_num`. \n",
    "From then on, we will use `experience_num` instead. Lastly we use the `select()` function to isolate our desired columns `experience_num` and `played_hours`."
   ]
  },
  {
   "cell_type": "code",
   "execution_count": null,
   "id": "d80e3465-5e5e-4d3b-b743-3bbbcefae007",
   "metadata": {},
   "outputs": [],
   "source": [
    "#we first need to check the different experience levels\n",
    "players|>\n",
    "distinct(experience) |> #distinct filters the repetitive values \n",
    "pull(experience)\n",
    "\n",
    "#We can mutate the experience column and select only the columns we want (played_hours and experience_num) \n",
    "players <- players |>\n",
    "  mutate(experience = factor(experience, levels = c(\"Beginner\", \"Amateur\", \"Regular\", \"Pro\", \"Veteran\"), ordered = TRUE),\n",
    "         experience_num = as.numeric(experience))|> #We ordered the categorical values and set them as numeric values\n",
    "  select(experience_num, played_hours)\n",
    "\n",
    "players"
   ]
  },
  {
   "cell_type": "markdown",
   "id": "9b280858-cd49-49e9-b12e-d9adf9b66889",
   "metadata": {},
   "source": [
    "Now that we have fixed our dataset, we need to perform simple linear regression. \n",
    "\n",
    "\n",
    "Linear regression requires us to split the data into a training and testing set. So we will have to use the `initial_split` function to first choose the proportion and strata of our split data. We will use `prop=0.75` and set the `strata` to `played_hours` as that is what we are trying to predict. The split data assigned to `players_split`. Then train the split data with `training` and test with `testing`. The training and testing sets will be assigned to objects `players_training` and `players_testing`.  "
   ]
  },
  {
   "cell_type": "code",
   "execution_count": null,
   "id": "d23bccba-c23a-412d-b1a4-3957aacfa603",
   "metadata": {},
   "outputs": [],
   "source": [
    "set.seed(10) # we will use set.seed to ensure random number generation and reproducibility\n",
    "\n",
    "players_split <- initial_split(players, prop = 0.75, strata = played_hours)\n",
    "players_training <- training(players_split)\n",
    "players_testing <- testing(players_split)"
   ]
  },
  {
   "cell_type": "markdown",
   "id": "cb36cc03-3016-45f4-93a4-9babb483114c",
   "metadata": {},
   "source": [
    "Now that we have our training data, we will create a model specification and recipe to fit to our simple regression model.\n",
    "We will use the `linear_reg` function to create the model and assign it to object `players_spec`. The engine set to `lm` and mode set to `regression`. \n",
    "Our recipe will be assigned to `players_recipe` with class= `played_hours` and predictor `experience_num` using the training data.\n",
    "Using `workflow()` we add the recipe and spec then fit the data to the training data. "
   ]
  },
  {
   "cell_type": "code",
   "execution_count": null,
   "id": "3c0d35cf-05a3-471d-94df-02b322175cef",
   "metadata": {},
   "outputs": [],
   "source": [
    "players_spec <- linear_reg() |>\n",
    "  set_engine(\"lm\") |>\n",
    "  set_mode(\"regression\")\n",
    "\n",
    "players_recipe <- recipe(played_hours ~ experience_num, data = players_training)\n",
    "\n",
    "players_fit <- workflow() |>\n",
    "  add_recipe(players_recipe) |>\n",
    "  add_model(players_spec) |>\n",
    "  fit(data = players_training)\n",
    "\n",
    "players_fit"
   ]
  },
  {
   "cell_type": "markdown",
   "id": "b916eb1f-6520-4dd6-a8ee-415222688af9",
   "metadata": {},
   "source": [
    "Now we have to predict on the test data set to assess how well our model has done. We assign our test results to the object `players_test_results` then use `predict`, `bind_cols` and `metrics()` with truth set to `played_hours` and estimate=`.pred`. We are going to be assessing the model based on the RMSPE value. RMSPE is the root mean squared percentage error and a metric used to assess the accuracy of the regression model. The lower the rmspe the better. "
   ]
  },
  {
   "cell_type": "code",
   "execution_count": null,
   "id": "f3799562-c9f4-413c-9118-bf399ad73881",
   "metadata": {},
   "outputs": [],
   "source": [
    "players_test_results <- players_fit |>\n",
    "  predict(players_testing) |>\n",
    "  bind_cols(players_testing) |>\n",
    "  metrics(truth = played_hours, estimate = .pred)\n",
    "players_test_results"
   ]
  },
  {
   "cell_type": "markdown",
   "id": "9398f123-7d79-42be-81dc-fdaf0ef58c98",
   "metadata": {},
   "source": [
    "Here we found that our RMSPE is about 7.8 hours off the true `played_hours`. We can't really tell if this means our model is \"good\" just based off this value so we will need to plot the data to visualize the simple regression model. \n",
    "\n",
    "To visualize the simpler regression model, we can plot the predicted hours played across possible experience levels. Since we have a linear model we will only have to use the predicted hours and experience then connect them with a regression line. "
   ]
  },
  {
   "cell_type": "code",
   "execution_count": null,
   "id": "f29bfe7a-a116-43fc-9783-67f764949715",
   "metadata": {},
   "outputs": [],
   "source": [
    "experience_prediction_grid <- tibble(\n",
    "    experience_num = c(\n",
    "        players |> select(experience_num) |> min(),\n",
    "        players |> select(experience_num) |> max() ))\n",
    "\n",
    "players_preds <- players_fit |>\n",
    "  predict(experience_prediction_grid) |>\n",
    "  bind_cols(experience_prediction_grid)\n",
    "\n",
    "players_plot_final <- ggplot(players, aes(x = experience_num, y = played_hours)) +\n",
    "  geom_point(alpha = 0.4) +\n",
    "  geom_line(data = players_preds,\n",
    "            mapping = aes(x = experience_num, y = .pred),\n",
    "            color = \"steelblue\",\n",
    "            linewidth = 1) +\n",
    "  xlab(\"Level of Experience\") +\n",
    "  ylab(\"Time played(hrs)\") +\n",
    "  theme(text = element_text(size = 12))\n",
    "\n",
    "players_plot_final"
   ]
  },
  {
   "cell_type": "markdown",
   "id": "66268274-7749-4db4-a9a0-b03e622a8624",
   "metadata": {},
   "source": [
    "Now we want to extract the coefficients from our fit object and extract it form the workflow using the `extract_fit_parsnip()` function and then tidy it to convert it to a dataframe."
   ]
  },
  {
   "cell_type": "code",
   "execution_count": null,
   "id": "e7b719ef-4955-42cb-ad74-7a80976551de",
   "metadata": {},
   "outputs": [],
   "source": [
    "coeffs <- players_fit |>\n",
    "             extract_fit_parsnip() |>\n",
    "             tidy()\n",
    "\n",
    "coeffs"
   ]
  },
  {
   "cell_type": "markdown",
   "id": "d84cb63c-3cfd-4e96-8d6e-86246d83f03e",
   "metadata": {},
   "source": [
    "## Discussion"
   ]
  },
  {
   "cell_type": "markdown",
   "id": "16f93c54-687a-441f-acd0-eb27608f036c",
   "metadata": {},
   "source": [
    "Based on the simple linear regression plot, there is a weak relationship between time played and level of experience in playing Minecraft. We used simple linear regression because we hypothesized a positive relationship between time played and level of experience. Instead there seems to be a slight negative relationship between the two variables. The many outliers within the data may have strongly influenced the relationship. "
   ]
  },
  {
   "cell_type": "code",
   "execution_count": null,
   "id": "33c07257-12d8-42fa-a2f5-967c14ebbcde",
   "metadata": {},
   "outputs": [],
   "source": []
  }
 ],
 "metadata": {
  "kernelspec": {
   "display_name": "R",
   "language": "R",
   "name": "ir"
  },
  "language_info": {
   "codemirror_mode": "r",
   "file_extension": ".r",
   "mimetype": "text/x-r-source",
   "name": "R",
   "pygments_lexer": "r",
   "version": "4.3.3"
  }
 },
 "nbformat": 4,
 "nbformat_minor": 5
}
