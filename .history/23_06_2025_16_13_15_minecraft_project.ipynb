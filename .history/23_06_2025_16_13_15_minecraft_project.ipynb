{
 "cells": [
  {
   "cell_type": "markdown",
   "id": "edaa29c0-935d-4700-80f0-8e5f5156f7d2",
   "metadata": {},
   "source": [
    "# Minecraft and Player Data: A Project"
   ]
  },
  {
   "cell_type": "markdown",
   "id": "bfb87b49-dee3-454f-881d-19fa1d983a04",
   "metadata": {},
   "source": [
    "## Introduction"
   ]
  },
  {
   "cell_type": "markdown",
   "id": "ead40186-c3f6-403b-8580-c3edc60cc87c",
   "metadata": {},
   "source": [
    "Minecraft is a well known video game available on a wide range of platforms. You can play it on Windows, Mac, Linux, Xbox, PlayStation, Nintendo Switch, Android, iOS and many more. With such accessibility, it's no wonder this game is so popular. Minecraft is a game made up of blocks, creatures and user community. You can build, dig, create structures, landscapes, gather resources, craft items, connect with friends and more depending on the selected game mode! \n",
    "\n",
    "*Source: https://minecraft.wiki/*\n",
    "\n",
    "Of course, such a game would mean millions of players everyday... so a research group in Computer Science at UBC, led by Frank Wood, collected data about how people play video games. They have set up a MineCraft server, and players' actions are recorded as they navigate through the world. But running this project is not simple: they need to target their recruitment efforts, and make sure they have enough resources (e.g., software licenses, server hardware) to handle the number of players they attract."
   ]
  },
  {
   "cell_type": "markdown",
   "id": "a9603c4c-e691-47e5-b770-013605ef63fc",
   "metadata": {},
   "source": [
    "We would like to know which \"kinds\" of players are most likely to contribute a large amount of data so that we can target those players in our recruiting efforts. \n",
    "More specifically, we want to know: \n",
    "\n",
    "**“Can the `experience` of the player predict `played_hours` in the `players` dataset?”**"
   ]
  },
  {
   "cell_type": "markdown",
   "id": "d23be9b9-ac62-4704-906c-902a1a055948",
   "metadata": {},
   "source": [
    "To answer this question, we will use the <b>players</b> dataset to analyze player data collected by the UBC research group. The dataset is a list of all unique players, including data about each player, containing 196 rows and 7 columns. \n",
    "\n",
    "The columns in the dataset are:\n",
    "- `experience`-The level of experience of the player, ranging from Amateur to Pro\n",
    "- `subscribe`-Whether the player has a paid subscription to Minecraft\n",
    "- `hashedEmail`-The hashed emails of the player\n",
    "- `played_hours`-The amount of hours played by each player (hrs)\n",
    "- `name`-Name of the player\n",
    "- `gender`-Gender of the player\n",
    "- `Age`-Age of the player (yrs)\n",
    "\n",
    "To answer our question of whether the experience of the player can predict the amount of hours played in the players dataset, we will use linear regression. Our predictor will be `experience`and `played_hours`as the continuous variable. We hypothesize that as the level of experience increases, so does the played hours."
   ]
  },
  {
   "cell_type": "markdown",
   "id": "d501b22a-327d-4761-acf8-73daeaaf1cf3",
   "metadata": {},
   "source": [
    "## Methods & Results"
   ]
  },
  {
   "cell_type": "code",
   "execution_count": null,
   "id": "601f691f-536c-414e-9217-e1c56d3b809c",
   "metadata": {},
   "outputs": [],
   "source": [
    "#we want to first load the appropriate packages\n",
    "library(tidyverse)\n",
    "library(repr)\n",
    "library(tidymodels)\n",
    "options(repr.matrix.max.rows = 6)"
   ]
  },
  {
   "cell_type": "markdown",
   "id": "af135b95-c6ae-4bcd-ba1f-7d21ca74ec9d",
   "metadata": {},
   "source": [
    "**1. Getting Started With the Dataset**"
   ]
  },
  {
   "cell_type": "markdown",
   "id": "0a61b405-424b-4116-b224-5af40e909ad0",
   "metadata": {},
   "source": [
    "The appropriate packages were loaded. \n",
    "\n",
    "Our first step to the regression problem is to read the file `players.csv` using the shortest relative path. The data is located in the data folder where we can preview to choose the appropriate `read_*` function. Here we want to use the `read_csv` for comma-separated files because the deliminator is a `,`.  \n",
    "\n",
    "The read file will be assigned to a `players` object for future reference. "
   ]
  },
  {
   "cell_type": "code",
   "execution_count": null,
   "id": "9b9e5d61-ee5e-490a-95ff-defd305a4432",
   "metadata": {},
   "outputs": [],
   "source": [
    "players <-read_csv(\"data/players.csv\")\n",
    "players"
   ]
  },
  {
   "cell_type": "markdown",
   "id": "2911f15e-29e1-45f9-a62a-83e7730ae637",
   "metadata": {},
   "source": [
    "\n",
    "We want to use the `experience` variable but we have to convert the values to numeric values to compute correlations with `played_hours` and plot trends.\n",
    "\n",
    "To do this, we need to mutate the experience column and order the categorical values by numbers. We will assign the new object to `players` and the mutated column `experience_num`. \n",
    "From then on, we will use `experience_num` instead. Lastly we use the `select()` function to isolate our desired columns `experience_num` and `played_hours`."
   ]
  },
  {
   "cell_type": "code",
   "execution_count": null,
   "id": "d80e3465-5e5e-4d3b-b743-3bbbcefae007",
   "metadata": {},
   "outputs": [],
   "source": [
    "#we first need to check the different experience levels\n",
    "players|>\n",
    "distinct(experience) |> #distinct filters the repetitive values \n",
    "pull(experience)\n",
    "\n",
    "#We can mutate the experience column and select only the columns we want (played_hours and experience_num) \n",
    "players <- players |>\n",
    "  mutate(experience = factor(experience, levels = c(\"Beginner\", \"Amateur\", \"Regular\", \"Pro\", \"Veteran\"), ordered = TRUE),\n",
    "         experience_num = as.numeric(experience))|>#We ordered the categorical values and set them as numeric values\n",
    "         select(experience_num, played_hours)\n",
    "players"
   ]
  },
  {
   "cell_type": "markdown",
   "id": "b16b0ebf-cbc7-465a-8c42-bf8debef65b7",
   "metadata": {},
   "source": [
    "**1.1 Exploring Our Data**\n",
    "\n",
    "Let's take a look at the distributions of `played_hours` and `experience_num` to look for patterns and skewing that could influence our analysis later on. "
   ]
  },
  {
   "cell_type": "code",
   "execution_count": null,
   "id": "7019e613-ff64-4553-bf86-d4719fc4d631",
   "metadata": {},
   "outputs": [],
   "source": [
    "ggplot(players, aes(x = played_hours)) +\n",
    "  geom_histogram() +\n",
    "  labs(x = \"Played Hours (Hours)\", y=\"Density\",\n",
    "       title = \"Played Hours Distribution\") +\n",
    "       xlim(c(0,60))+\n",
    "       ylim(c(0,20))+\n",
    "  theme_minimal()"
   ]
  },
  {
   "cell_type": "markdown",
   "id": "5d1d6dd3-6e0a-46db-b0ae-ac13230dc6bb",
   "metadata": {},
   "source": [
    "***Figure 1.***"
   ]
  },
  {
   "cell_type": "code",
   "execution_count": null,
   "id": "dc90c2cd-fbe9-4295-b1f1-6f6d41d2b78d",
   "metadata": {},
   "outputs": [],
   "source": [
    "ggplot(players, aes(x = experience_num)) +\n",
    "  geom_histogram(bins=10) +\n",
    "  labs(x = \"Level of Experience (Numeric)\", y=\"Density\",\n",
    "       title = \"Experience Level Distribution\") +\n",
    "  theme_minimal()"
   ]
  },
  {
   "cell_type": "markdown",
   "id": "9c294e0d-6047-4901-9104-e6effdd45529",
   "metadata": {},
   "source": [
    "***Figure 2***."
   ]
  },
  {
   "cell_type": "markdown",
   "id": "83c5ec14-d1b7-4cc8-8488-56d292ded373",
   "metadata": {},
   "source": [
    "*Interpret Distributions*"
   ]
  },
  {
   "cell_type": "markdown",
   "id": "5ed9d85d-ce35-4e10-b642-a1e9ef4c14c3",
   "metadata": {},
   "source": [
    "It looks like figure 1. played hours distribution has a strong right skew, with majority of played hours in a week being under 20 hours. Outlier may strongly influence our results later on.\n",
    "Figure 2's experience level distribution is more spread though majority of players are level 2: amateur, then level 5:veteran. Based on figure 2, `experience` might be a good predictor but the uneven distribution may be the one to determine the results. "
   ]
  },
  {
   "cell_type": "markdown",
   "id": "46709694-4a53-4d8c-ba01-40b21d2df35c",
   "metadata": {},
   "source": [
    "**2. Linear Regression**"
   ]
  },
  {
   "cell_type": "markdown",
   "id": "9b280858-cd49-49e9-b12e-d9adf9b66889",
   "metadata": {},
   "source": [
    "We have fixed our dataset, so now we need to perform simple linear regression. We are assuming a linear relationship between our two variables as linear regression is limited to linear sets of data. \n",
    "\n",
    "\n",
    "Linear regression requires us to split the data into a training and testing set. So we will have to use the `initial_split` function to first choose the proportion and strata of our split data. We will use `prop=0.75` such that 75% is used for the training data and the rest 25% to testing data. We set the `strata` to `played_hours` as that is what we are trying to predict. The split data assigned to `players_split`. Then train the split data with `training` and test with `testing`. The training and testing sets will be assigned to objects `players_training` and `players_testing`.  "
   ]
  },
  {
   "cell_type": "code",
   "execution_count": null,
   "id": "d23bccba-c23a-412d-b1a4-3957aacfa603",
   "metadata": {},
   "outputs": [],
   "source": [
    "set.seed(10) # we will use set.seed to ensure random number generation and reproducibility\n",
    "\n",
    "players_split <- initial_split(players, prop = 0.75, strata = played_hours)\n",
    "players_training <- training(players_split)\n",
    "players_testing <- testing(players_split)"
   ]
  },
  {
   "cell_type": "markdown",
   "id": "cb36cc03-3016-45f4-93a4-9babb483114c",
   "metadata": {},
   "source": [
    "After obtaining our training data, we will create a model specification and recipe to fit to our simple regression model.\n",
    "We will use the `linear_reg` function to create the model and assign it to object `players_spec`. The engine set to `lm` and mode set to `regression`. \n",
    "Our recipe will be assigned to `players_recipe` with class= `played_hours` and predictor `experience_num` using the training data.\n",
    "Using `workflow()` we add the recipe and spec then fit the data to the training data. "
   ]
  },
  {
   "cell_type": "code",
   "execution_count": null,
   "id": "3c0d35cf-05a3-471d-94df-02b322175cef",
   "metadata": {},
   "outputs": [],
   "source": [
    "players_spec <- linear_reg() |>\n",
    "  set_engine(\"lm\") |>\n",
    "  set_mode(\"regression\")\n",
    "\n",
    "players_recipe <- recipe(played_hours ~ experience_num, data = players_training)\n",
    "\n",
    "players_fit <- workflow() |>\n",
    "  add_recipe(players_recipe) |>\n",
    "  add_model(players_spec) |>\n",
    "  fit(data = players_training)\n",
    "\n",
    "players_fit"
   ]
  },
  {
   "cell_type": "markdown",
   "id": "179b6cc8-814a-4f02-8cdc-f6f0da603c10",
   "metadata": {},
   "source": [
    "We should calculate the **RMSE** value (root mean squared error) to check the goodness of fit, how well it predicts on the training data used to fit the model and assigned to the object `players_rmse`. "
   ]
  },
  {
   "cell_type": "code",
   "execution_count": null,
   "id": "4e0a264b-3bdd-4bab-8b96-f259ac308cb0",
   "metadata": {},
   "outputs": [],
   "source": [
    "players_rmse <- players_fit |>\n",
    "  predict(players_training) |>\n",
    "  bind_cols(players_training) |>\n",
    "  metrics(truth = played_hours, estimate = .pred)|>\n",
    "  filter(.metric == \"rmse\") |>\n",
    "  select(.estimate) |>\n",
    "  pull()\n",
    "players_rmse"
   ]
  },
  {
   "cell_type": "markdown",
   "id": "b916eb1f-6520-4dd6-a8ee-415222688af9",
   "metadata": {},
   "source": [
    "Now we have to predict on the test data set to assess how well our model has done. We assign our test results to the object `players_test_results` then use `predict`, `bind_cols` and `metrics()` with truth set to `played_hours` and estimate=`.pred`. We are going to be assessing the model based on the **RMSPE** value. RMSPE is the root mean squared percentage error and a metric used to assess the accuracy of the regression model. The lower the rmspe the better. "
   ]
  },
  {
   "cell_type": "code",
   "execution_count": null,
   "id": "f3799562-c9f4-413c-9118-bf399ad73881",
   "metadata": {},
   "outputs": [],
   "source": [
    "players_rmspe <- players_fit |>\n",
    "  predict(players_testing) |>\n",
    "  bind_cols(players_testing) |>\n",
    "  metrics(truth = played_hours, estimate = .pred)|>\n",
    "  filter(.metric == \"rmse\") |>\n",
    "  pull()\n",
    "players_rmspe"
   ]
  },
  {
   "cell_type": "markdown",
   "id": "9398f123-7d79-42be-81dc-fdaf0ef58c98",
   "metadata": {},
   "source": [
    "Here we found that our RMSPE is about 7.8 hours off the true `played_hours`. We can't really tell if this means our model is \"good\" just based off this value so we will need to plot the data to visualize the simple regression model. \n",
    "\n",
    "**3. Visualizing our Model**\n",
    "\n",
    "To visualize the simpler regression model, we can plot the predicted hours played across possible experience levels. Since we have a linear model we will only have to use the predicted hours and experience then connect them with a regression line. "
   ]
  },
  {
   "cell_type": "code",
   "execution_count": null,
   "id": "f29bfe7a-a116-43fc-9783-67f764949715",
   "metadata": {},
   "outputs": [],
   "source": [
    "experience_prediction_grid <- tibble(     #we first want to superimpose the prediction line on a scatter plot of the original players data, so that we can qualitatively assess if the model seems to fit the data well.\n",
    "    experience_num = c(\n",
    "        players |> select(experience_num) |> min(),\n",
    "        players |> select(experience_num) |> max() ))\n",
    "\n",
    "players_preds <- players_fit |>\n",
    "  predict(experience_prediction_grid) |>\n",
    "  bind_cols(experience_prediction_grid)\n",
    "\n",
    "players_plot_final <- ggplot(players, aes(x = experience_num, y = played_hours)) +\n",
    "  geom_point(alpha = 0.4) +\n",
    "  geom_line(data = players_preds,\n",
    "            mapping = aes(x = experience_num, y = .pred),\n",
    "            color = \"steelblue\",\n",
    "            linewidth = 1) +\n",
    "  xlab(\"Level of Experience\") +\n",
    "  ylab(\"Time played(hrs)\") +\n",
    "  ggtitle(\"Predicted Hours Played by Level of Player Experience\")+\n",
    "  ylim(c(0,60)) +#the ylim was included to narrow the data to show a better visualization excluding the extreme outliers\n",
    "  theme(text = element_text(size = 12))\n",
    "players_plot_final"
   ]
  },
  {
   "cell_type": "markdown",
   "id": "e67a3b65-f004-473b-8aec-74b7936cb8f6",
   "metadata": {},
   "source": [
    "***Figure 3.***"
   ]
  },
  {
   "cell_type": "markdown",
   "id": "66268274-7749-4db4-a9a0-b03e622a8624",
   "metadata": {},
   "source": [
    "We want to extract the coefficients from our fit object and extract it form the workflow using the `extract_fit_parsnip()` function and then tidy it to convert it to a dataframe."
   ]
  },
  {
   "cell_type": "code",
   "execution_count": null,
   "id": "e7b719ef-4955-42cb-ad74-7a80976551de",
   "metadata": {},
   "outputs": [],
   "source": [
    "coeffs <- players_fit |>\n",
    "             extract_fit_parsnip() |>\n",
    "             tidy()\n",
    "\n",
    "coeffs"
   ]
  },
  {
   "cell_type": "markdown",
   "id": "d84cb63c-3cfd-4e96-8d6e-86246d83f03e",
   "metadata": {},
   "source": [
    "## Discussion"
   ]
  },
  {
   "cell_type": "markdown",
   "id": "16f93c54-687a-441f-acd0-eb27608f036c",
   "metadata": {},
   "source": [
    "Based on the simple linear regression plot, there is a weak relationship between time played and level of experience in playing Minecraft. We used simple linear regression because we hypothesized a positive relationship between time played and level of experience. Instead, there seems to be a very weak negative relationship between the two variables. The trend shows that as experience increases, the time spent playing decreases. The slope estimate of -1.11 indicates that for each increase in experience level, the time played decreases by 1.11 hours on average. The p-value of 0.55 is also not statistically significant, as it is way above the threshold of 0.05. So we cannot conclude that the experience level has a significant effect on the time played. \n",
    "\n",
    "The plot shows many extreme outliers, with some players spending over 40-60 hours playing Minecraft. These points may have had a strong influence on the regression line and contributed to the weak relationship. The majority of the data is also clustered around the low time values, suggesting that most players, regardless of experience level, are casual players. \n",
    "\n",
    "On average, the model’s predictions for a player’s weekly played hours were off by about 32.53 hours. This is quite high given that most players play less than 20 hours a week, suggesting the model may be heavily influenced by outliers or not capturing the pattern well. The RMSPE of our model is approximately 7.8 hours, so on average, our predictions differ from the actual played hours by about 7.8 hours. Since most players play fewer than 20 hours per week, this is a moderately large error. This suggests the model captures some patterns in the data, but still has room for improvement.\n",
    "\n",
    "This outcome was completely unexpected. We expected more experienced players to have a higher number of hours played, given their status and possibly a higher number of resources and achievements. The observed weak and negative trend may reflect other factors not highlighted in our model. \n",
    "\n",
    "So, if experience doesn't predict how much someone plays, this suggests that experience alone is not a reliable indicator of high data contribution. The observed outliers, however, do contribute a large amount of gameplay but they exist across different levels of experience. \n",
    "\n",
    "The model could be improved by using 2 predicting variables and we could try to use the K-NN model since our data is more non-linear, throu.  \n",
    "\n",
    "Some future questions this project could lead to are ....."
   ]
  },
  {
   "cell_type": "markdown",
   "id": "4b19c121-f9c9-4b05-83e4-e93f1e3ed62f",
   "metadata": {},
   "source": [
    "**Git Repository**: https://github.com/bonniechow19/minecraft_project"
   ]
  }
 ],
 "metadata": {
  "kernelspec": {
   "display_name": "R",
   "language": "R",
   "name": "ir"
  },
  "language_info": {
   "codemirror_mode": "r",
   "file_extension": ".r",
   "mimetype": "text/x-r-source",
   "name": "R",
   "pygments_lexer": "r",
   "version": "4.3.3"
  }
 },
 "nbformat": 4,
 "nbformat_minor": 5
}
